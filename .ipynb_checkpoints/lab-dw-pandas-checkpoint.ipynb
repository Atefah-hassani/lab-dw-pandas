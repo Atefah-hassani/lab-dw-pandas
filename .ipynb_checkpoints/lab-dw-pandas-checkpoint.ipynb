{
 "cells": [
  {
   "cell_type": "markdown",
   "id": "25d7736c-ba17-4aff-b6bb-66eba20fbf4e",
   "metadata": {},
   "source": [
    "# Lab | Pandas"
   ]
  },
  {
   "cell_type": "markdown",
   "id": "d1973e9e-8be6-4039-b70e-d73ee0d94c99",
   "metadata": {},
   "source": [
    "In this lab, we will be working with the customer data from an insurance company, which can be found in the CSV file located at the following link: https://raw.githubusercontent.com/data-bootcamp-v4/data/main/file1.csv\n",
    "\n",
    "The data includes information such as customer ID, state, gender, education, income, and other variables that can be used to perform various analyses.\n",
    "\n",
    "Throughout the lab, we will be using the pandas library in Python to manipulate and analyze the data. Pandas is a powerful library that provides various data manipulation and analysis tools, including the ability to load and manipulate data from a variety of sources, including CSV files."
   ]
  },
  {
   "cell_type": "markdown",
   "id": "8045146f-f4f7-44d9-8cd9-130d6400c73a",
   "metadata": {},
   "source": [
    "### Data Description\n",
    "\n",
    "- Customer - Customer ID\n",
    "\n",
    "- ST - State where customers live\n",
    "\n",
    "- Gender - Gender of the customer\n",
    "\n",
    "- Education - Background education of customers \n",
    "\n",
    "- Customer Lifetime Value - Customer lifetime value(CLV) is the total revenue the client will derive from their entire relationship with a customer. In other words, is the predicted or calculated value of a customer over their entire duration as a policyholder with the insurance company. It is an estimation of the net profit that the insurance company expects to generate from a customer throughout their relationship with the company. Customer Lifetime Value takes into account factors such as the duration of the customer's policy, premium payments, claim history, renewal likelihood, and potential additional services or products the customer may purchase. It helps insurers assess the long-term profitability and value associated with retaining a particular customer.\n",
    "\n",
    "- Income - Customers income\n",
    "\n",
    "- Monthly Premium Auto - Amount of money the customer pays on a monthly basis as a premium for their auto insurance coverage. It represents the recurring cost that the insured person must pay to maintain their insurance policy and receive coverage for potential damages, accidents, or other covered events related to their vehicle.\n",
    "\n",
    "- Number of Open Complaints - Number of complaints the customer opened\n",
    "\n",
    "- Policy Type - There are three type of policies in car insurance (Corporate Auto, Personal Auto, and Special Auto)\n",
    "\n",
    "- Vehicle Class - Type of vehicle classes that customers have Two-Door Car, Four-Door Car SUV, Luxury SUV, Sports Car, and Luxury Car\n",
    "\n",
    "- Total Claim Amount - the sum of all claims made by the customer. It represents the total monetary value of all approved claims for incidents such as accidents, theft, vandalism, or other covered events.\n"
   ]
  },
  {
   "cell_type": "markdown",
   "id": "3a72419b-20fc-4905-817a-8c83abc59de6",
   "metadata": {},
   "source": [
    "External Resources: https://towardsdatascience.com/filtering-data-frames-in-pandas-b570b1f834b9"
   ]
  },
  {
   "cell_type": "markdown",
   "id": "8f8ece17-e919-4e23-96c0-c7c59778436a",
   "metadata": {},
   "source": [
    "## Challenge 1: Understanding the data\n",
    "\n",
    "In this challenge, you will use pandas to explore a given dataset. Your task is to gain a deep understanding of the data by analyzing its characteristics, dimensions, and statistical properties."
   ]
  },
  {
   "cell_type": "markdown",
   "id": "91437bd5-59a6-49c0-8150-ef0e6e6eb253",
   "metadata": {},
   "source": [
    "- Identify the dimensions of the dataset by determining the number of rows and columns it contains.\n",
    "- Determine the data types of each column and evaluate whether they are appropriate for the nature of the variable. You should also provide suggestions for fixing any incorrect data types.\n",
    "- Identify the number of unique values for each column and determine which columns appear to be categorical. You should also describe the unique values of each categorical column and the range of values for numerical columns, and give your insights.\n",
    "- Compute summary statistics such as mean, median, mode, standard deviation, and quartiles to understand the central tendency and distribution of the data for numerical columns. You should also provide your conclusions based on these summary statistics.\n",
    "- Compute summary statistics for categorical columns and providing your conclusions based on these statistics."
   ]
  },
  {
   "cell_type": "code",
   "execution_count": 1,
   "id": "dd4e8cd8-a6f6-486c-a5c4-1745b0c035f4",
   "metadata": {},
   "outputs": [
    {
     "name": "stdout",
     "output_type": "stream",
     "text": [
      "  Customer          ST GENDER             Education Customer Lifetime Value  \\\n",
      "0  RB50392  Washington    NaN                Master                     NaN   \n",
      "1  QZ44356     Arizona      F              Bachelor              697953.59%   \n",
      "2  AI49188      Nevada      F              Bachelor             1288743.17%   \n",
      "3  WW63253  California      M              Bachelor              764586.18%   \n",
      "4  GA49547  Washington      M  High School or Below              536307.65%   \n",
      "\n",
      "    Income  Monthly Premium Auto Number of Open Complaints     Policy Type  \\\n",
      "0      0.0                1000.0                    1/0/00   Personal Auto   \n",
      "1      0.0                  94.0                    1/0/00   Personal Auto   \n",
      "2  48767.0                 108.0                    1/0/00   Personal Auto   \n",
      "3      0.0                 106.0                    1/0/00  Corporate Auto   \n",
      "4  36357.0                  68.0                    1/0/00   Personal Auto   \n",
      "\n",
      "   Vehicle Class  Total Claim Amount  \n",
      "0  Four-Door Car            2.704934  \n",
      "1  Four-Door Car         1131.464935  \n",
      "2   Two-Door Car          566.472247  \n",
      "3            SUV          529.881344  \n",
      "4  Four-Door Car           17.269323  \n"
     ]
    }
   ],
   "source": [
    "# Your code here\n",
    "import pandas as pd\n",
    "url = 'https://raw.githubusercontent.com/data-bootcamp-v4/data/main/file1.csv'\n",
    "data = pd.read_csv(url)\n",
    "print(data.head())"
   ]
  },
  {
   "cell_type": "code",
   "execution_count": 3,
   "id": "5c306a43-f5b4-444f-aac1-9a0b6b778449",
   "metadata": {},
   "outputs": [
    {
     "data": {
      "text/plain": [
       "(4008, 11)"
      ]
     },
     "execution_count": 3,
     "metadata": {},
     "output_type": "execute_result"
    }
   ],
   "source": [
    "data.shape"
   ]
  },
  {
   "cell_type": "code",
   "execution_count": 4,
   "id": "af4306ec-9b73-49b8-bdb7-2495cf5723e0",
   "metadata": {},
   "outputs": [
    {
     "name": "stdout",
     "output_type": "stream",
     "text": [
      "<class 'pandas.core.frame.DataFrame'>\n",
      "RangeIndex: 4008 entries, 0 to 4007\n",
      "Data columns (total 11 columns):\n",
      " #   Column                     Non-Null Count  Dtype  \n",
      "---  ------                     --------------  -----  \n",
      " 0   Customer                   1071 non-null   object \n",
      " 1   ST                         1071 non-null   object \n",
      " 2   GENDER                     954 non-null    object \n",
      " 3   Education                  1071 non-null   object \n",
      " 4   Customer Lifetime Value    1068 non-null   object \n",
      " 5   Income                     1071 non-null   float64\n",
      " 6   Monthly Premium Auto       1071 non-null   float64\n",
      " 7   Number of Open Complaints  1071 non-null   object \n",
      " 8   Policy Type                1071 non-null   object \n",
      " 9   Vehicle Class              1071 non-null   object \n",
      " 10  Total Claim Amount         1071 non-null   float64\n",
      "dtypes: float64(3), object(8)\n",
      "memory usage: 344.6+ KB\n"
     ]
    }
   ],
   "source": [
    "data.info()"
   ]
  },
  {
   "cell_type": "code",
   "execution_count": 5,
   "id": "549cb8ed-7796-4667-8379-c742410160ee",
   "metadata": {},
   "outputs": [
    {
     "data": {
      "text/plain": [
       "0             NaN\n",
       "1      697953.59%\n",
       "2     1288743.17%\n",
       "3      764586.18%\n",
       "4      536307.65%\n",
       "5      825629.78%\n",
       "6      538089.86%\n",
       "7      721610.03%\n",
       "8     2412750.40%\n",
       "9      738817.81%\n",
       "10     473899.20%\n",
       "11     819719.71%\n",
       "12     879879.70%\n",
       "13     881901.89%\n",
       "14     538443.17%\n",
       "15     746313.94%\n",
       "16     256686.78%\n",
       "17     394524.16%\n",
       "18     571033.31%\n",
       "19     816261.71%\n",
       "20     287205.13%\n",
       "21     617710.93%\n",
       "22    2412750.40%\n",
       "23     245019.10%\n",
       "24     239210.79%\n",
       "25     580206.60%\n",
       "26     394637.21%\n",
       "27     916206.32%\n",
       "28    1290256.01%\n",
       "29     323536.05%\n",
       "30     245458.35%\n",
       "31    1897545.61%\n",
       "32     471532.13%\n",
       "33     473787.17%\n",
       "34     493291.63%\n",
       "35     574422.97%\n",
       "36    1389173.57%\n",
       "37     738097.67%\n",
       "38     309003.41%\n",
       "39     252163.31%\n",
       "40     265206.18%\n",
       "41     277104.50%\n",
       "42     393900.64%\n",
       "43    1223187.97%\n",
       "44     495165.61%\n",
       "45    1281910.29%\n",
       "46     446851.05%\n",
       "47     551434.40%\n",
       "48     334387.53%\n",
       "49     229447.89%\n",
       "Name: Customer Lifetime Value, dtype: object"
      ]
     },
     "execution_count": 5,
     "metadata": {},
     "output_type": "execute_result"
    }
   ],
   "source": [
    "data[\"Customer Lifetime Value\"].head(50)"
   ]
  },
  {
   "cell_type": "code",
   "execution_count": 6,
   "id": "ab342e20-dfb5-4120-a2af-ba05f124c253",
   "metadata": {},
   "outputs": [
    {
     "name": "stdout",
     "output_type": "stream",
     "text": [
      "0   NaN\n",
      "1   NaN\n",
      "2   NaN\n",
      "3   NaN\n",
      "4   NaN\n",
      "Name: Customer Lifetime Value, dtype: float64\n",
      "Customer                      object\n",
      "ST                            object\n",
      "GENDER                        object\n",
      "Education                     object\n",
      "Customer Lifetime Value      float64\n",
      "Income                       float64\n",
      "Monthly Premium Auto         float64\n",
      "Number of Open Complaints     object\n",
      "Policy Type                   object\n",
      "Vehicle Class                 object\n",
      "Total Claim Amount           float64\n",
      "dtype: object\n"
     ]
    }
   ],
   "source": [
    "# Convert the 'Customer Lifetime Value' column to float, handling any possible errors\n",
    "data['Customer Lifetime Value'] = pd.to_numeric(data['Customer Lifetime Value'], errors='coerce')\n",
    "\n",
    "# Fill the NaN values with the mean or median\n",
    "mean_value = data['Customer Lifetime Value'].mean()\n",
    "\n",
    "# You can choose to fill with mean \n",
    "data['Customer Lifetime Value'] = data['Customer Lifetime Value'].fillna(mean_value)\n",
    "\n",
    "print(data['Customer Lifetime Value'].head())\n",
    "print(data.dtypes)"
   ]
  },
  {
   "cell_type": "code",
   "execution_count": 7,
   "id": "f6681fcc-0e3e-4ca9-852e-7a61c54471f4",
   "metadata": {},
   "outputs": [
    {
     "data": {
      "text/plain": [
       "0      NaN\n",
       "1      NaN\n",
       "2      NaN\n",
       "3      NaN\n",
       "4      NaN\n",
       "        ..\n",
       "4003   NaN\n",
       "4004   NaN\n",
       "4005   NaN\n",
       "4006   NaN\n",
       "4007   NaN\n",
       "Name: Customer Lifetime Value, Length: 4008, dtype: float64"
      ]
     },
     "execution_count": 7,
     "metadata": {},
     "output_type": "execute_result"
    }
   ],
   "source": [
    "data[\"Customer Lifetime Value\"]"
   ]
  },
  {
   "cell_type": "code",
   "execution_count": 8,
   "id": "4c501b2b-ce5d-45a3-8b2c-647d0a42f19d",
   "metadata": {},
   "outputs": [
    {
     "name": "stdout",
     "output_type": "stream",
     "text": [
      "Number of Unique Values for Each Column:\n",
      "Customer                     1071\n",
      "ST                              8\n",
      "GENDER                          5\n",
      "Education                       6\n",
      "Customer Lifetime Value         0\n",
      "Income                        774\n",
      "Monthly Premium Auto          132\n",
      "Number of Open Complaints       6\n",
      "Policy Type                     3\n",
      "Vehicle Class                   6\n",
      "Total Claim Amount            761\n",
      "dtype: int64\n",
      "\n",
      "Categorical Columns and Their Unique Values:\n",
      "Customer: ['RB50392' 'QZ44356' 'AI49188' ... 'CW49887' 'MY31220' nan]\n",
      "ST: ['Washington' 'Arizona' 'Nevada' 'California' 'Oregon' 'Cali' 'AZ' 'WA'\n",
      " nan]\n",
      "GENDER: [nan 'F' 'M' 'Femal' 'Male' 'female']\n",
      "Education: ['Master' 'Bachelor' 'High School or Below' 'College' 'Bachelors' 'Doctor'\n",
      " nan]\n",
      "Number of Open Complaints: ['1/0/00' '1/2/00' '1/1/00' '1/3/00' '1/5/00' '1/4/00' nan]\n",
      "Policy Type: ['Personal Auto' 'Corporate Auto' 'Special Auto' nan]\n",
      "Vehicle Class: ['Four-Door Car' 'Two-Door Car' 'SUV' 'Luxury SUV' 'Sports Car'\n",
      " 'Luxury Car' nan]\n",
      "\n",
      "Range of Values for Numerical Columns:\n",
      "       Customer Lifetime Value        Income  Monthly Premium Auto  \\\n",
      "count                      0.0   1071.000000           1071.000000   \n",
      "mean                       NaN  39295.701214            193.234360   \n",
      "std                        NaN  30469.427060           1601.190369   \n",
      "min                        NaN      0.000000             61.000000   \n",
      "25%                        NaN  14072.000000             68.000000   \n",
      "50%                        NaN  36234.000000             83.000000   \n",
      "75%                        NaN  64631.000000            109.500000   \n",
      "max                        NaN  99960.000000          35354.000000   \n",
      "\n",
      "       Total Claim Amount  \n",
      "count         1071.000000  \n",
      "mean           404.986909  \n",
      "std            293.027260  \n",
      "min              0.382107  \n",
      "25%            202.157702  \n",
      "50%            354.729129  \n",
      "75%            532.800000  \n",
      "max           2893.239678  \n"
     ]
    }
   ],
   "source": [
    "\n",
    "# Identify the number of unique values for each column\n",
    "unique_values = data.nunique()\n",
    "\n",
    "# Determine which columns appear to be categorical\n",
    "categorical_columns = data.select_dtypes(include=['object', 'category']).columns\n",
    "\n",
    "# Describe the unique values of each categorical column and the range of values for numerical columns\n",
    "categorical_descriptions = {col: data[col].unique() for col in categorical_columns}\n",
    "numerical_ranges = data.describe()\n",
    "\n",
    "print(\"Number of Unique Values for Each Column:\")\n",
    "print(unique_values)\n",
    "print(\"\\nCategorical Columns and Their Unique Values:\")\n",
    "for col, unique_vals in categorical_descriptions.items():\n",
    "    print(f\"{col}: {unique_vals}\")\n",
    "print(\"\\nRange of Values for Numerical Columns:\")\n",
    "print(numerical_ranges)"
   ]
  },
  {
   "cell_type": "code",
   "execution_count": 9,
   "id": "dcc2008f-3550-4740-a886-d9ae1c1b7911",
   "metadata": {},
   "outputs": [
    {
     "name": "stdout",
     "output_type": "stream",
     "text": [
      "[nan 'F' 'M']\n"
     ]
    }
   ],
   "source": [
    "# Define a function to clean the 'GENDER' column\n",
    "def clean_gender(gender):\n",
    "    if pd.isna(gender):\n",
    "        return gender\n",
    "    gender = gender.strip().lower()\n",
    "    if gender in ['femal', 'female', 'f']:\n",
    "        return 'F'\n",
    "    elif gender == 'male':\n",
    "        return 'M'\n",
    "    elif gender == 'm':\n",
    "        return 'M'\n",
    "    return gender\n",
    "\n",
    "# Apply the function to the 'GENDER' column\n",
    "data['GENDER'] = data['GENDER'].apply(clean_gender)\n",
    "\n",
    "# Verify the changes\n",
    "print(data['GENDER'].unique())\n",
    "\n",
    "# Save the cleaned DataFrame to a new CSV file\n",
    "data.to_csv('cleaned_file1.csv', index=False)"
   ]
  },
  {
   "cell_type": "code",
   "execution_count": 10,
   "id": "b5b16084-c4b4-4cd6-8543-344a961d29ba",
   "metadata": {},
   "outputs": [
    {
     "name": "stdout",
     "output_type": "stream",
     "text": [
      "[nan 'F' 'M']\n"
     ]
    }
   ],
   "source": [
    "data[\"GENDER\"].nunique()\n",
    "\n",
    "# Get the unique values in the 'ST' column\n",
    "unique_values_gn = data['GENDER'].unique()\n",
    "print(unique_values_gn)"
   ]
  },
  {
   "cell_type": "code",
   "execution_count": 11,
   "id": "1d5ff73c-99b4-4697-a22b-f07153aea8a8",
   "metadata": {},
   "outputs": [
    {
     "name": "stdout",
     "output_type": "stream",
     "text": [
      "['Washington' 'Arizona' 'Nevada' 'California' 'Oregon' nan]\n"
     ]
    }
   ],
   "source": [
    "# Define a function to clean the 'ST' column\n",
    "def clean_st(state):\n",
    "    if pd.isna(state):\n",
    "        return state\n",
    "    state = state.strip().lower()\n",
    "    if state in ['cali', 'california']:\n",
    "        return 'California'\n",
    "    elif state in ['az', 'arizona']:\n",
    "        return 'Arizona'\n",
    "    elif state in ['wa', 'washington']:\n",
    "        return 'Washington'\n",
    "    return state.capitalize()\n",
    "\n",
    "# Apply the function to the 'GENDER' column\n",
    "data['ST'] = data['ST'].apply(clean_st)\n",
    "\n",
    "# Verify the changes\n",
    "print(data['ST'].unique())\n",
    "\n",
    "# Save the cleaned DataFrame to a new CSV file\n",
    "data.to_csv('cleaned_file1.csv', index=False)"
   ]
  },
  {
   "cell_type": "code",
   "execution_count": 12,
   "id": "d0fe4a54-003b-44c1-b86b-f8194e2ae250",
   "metadata": {},
   "outputs": [
    {
     "name": "stdout",
     "output_type": "stream",
     "text": [
      "['Washington' 'Arizona' 'Nevada' 'California' 'Oregon' nan]\n"
     ]
    }
   ],
   "source": [
    "data['ST'].nunique()\n",
    "\n",
    "# Get the unique values in the 'ST' column\n",
    "unique_values = data['ST'].unique()\n",
    "print(unique_values)"
   ]
  },
  {
   "cell_type": "code",
   "execution_count": 13,
   "id": "ce23b57a-e14d-446f-8c0d-74b8dc39cc6c",
   "metadata": {},
   "outputs": [
    {
     "data": {
      "text/html": [
       "<div>\n",
       "<style scoped>\n",
       "    .dataframe tbody tr th:only-of-type {\n",
       "        vertical-align: middle;\n",
       "    }\n",
       "\n",
       "    .dataframe tbody tr th {\n",
       "        vertical-align: top;\n",
       "    }\n",
       "\n",
       "    .dataframe thead th {\n",
       "        text-align: right;\n",
       "    }\n",
       "</style>\n",
       "<table border=\"1\" class=\"dataframe\">\n",
       "  <thead>\n",
       "    <tr style=\"text-align: right;\">\n",
       "      <th></th>\n",
       "      <th>Customer Lifetime Value</th>\n",
       "      <th>Income</th>\n",
       "      <th>Monthly Premium Auto</th>\n",
       "      <th>Total Claim Amount</th>\n",
       "    </tr>\n",
       "  </thead>\n",
       "  <tbody>\n",
       "    <tr>\n",
       "      <th>count</th>\n",
       "      <td>0.0</td>\n",
       "      <td>1071.000000</td>\n",
       "      <td>1071.000000</td>\n",
       "      <td>1071.000000</td>\n",
       "    </tr>\n",
       "    <tr>\n",
       "      <th>mean</th>\n",
       "      <td>NaN</td>\n",
       "      <td>39295.701214</td>\n",
       "      <td>193.234360</td>\n",
       "      <td>404.986909</td>\n",
       "    </tr>\n",
       "    <tr>\n",
       "      <th>std</th>\n",
       "      <td>NaN</td>\n",
       "      <td>30469.427060</td>\n",
       "      <td>1601.190369</td>\n",
       "      <td>293.027260</td>\n",
       "    </tr>\n",
       "    <tr>\n",
       "      <th>min</th>\n",
       "      <td>NaN</td>\n",
       "      <td>0.000000</td>\n",
       "      <td>61.000000</td>\n",
       "      <td>0.382107</td>\n",
       "    </tr>\n",
       "    <tr>\n",
       "      <th>25%</th>\n",
       "      <td>NaN</td>\n",
       "      <td>14072.000000</td>\n",
       "      <td>68.000000</td>\n",
       "      <td>202.157702</td>\n",
       "    </tr>\n",
       "    <tr>\n",
       "      <th>50%</th>\n",
       "      <td>NaN</td>\n",
       "      <td>36234.000000</td>\n",
       "      <td>83.000000</td>\n",
       "      <td>354.729129</td>\n",
       "    </tr>\n",
       "    <tr>\n",
       "      <th>75%</th>\n",
       "      <td>NaN</td>\n",
       "      <td>64631.000000</td>\n",
       "      <td>109.500000</td>\n",
       "      <td>532.800000</td>\n",
       "    </tr>\n",
       "    <tr>\n",
       "      <th>max</th>\n",
       "      <td>NaN</td>\n",
       "      <td>99960.000000</td>\n",
       "      <td>35354.000000</td>\n",
       "      <td>2893.239678</td>\n",
       "    </tr>\n",
       "  </tbody>\n",
       "</table>\n",
       "</div>"
      ],
      "text/plain": [
       "       Customer Lifetime Value        Income  Monthly Premium Auto  \\\n",
       "count                      0.0   1071.000000           1071.000000   \n",
       "mean                       NaN  39295.701214            193.234360   \n",
       "std                        NaN  30469.427060           1601.190369   \n",
       "min                        NaN      0.000000             61.000000   \n",
       "25%                        NaN  14072.000000             68.000000   \n",
       "50%                        NaN  36234.000000             83.000000   \n",
       "75%                        NaN  64631.000000            109.500000   \n",
       "max                        NaN  99960.000000          35354.000000   \n",
       "\n",
       "       Total Claim Amount  \n",
       "count         1071.000000  \n",
       "mean           404.986909  \n",
       "std            293.027260  \n",
       "min              0.382107  \n",
       "25%            202.157702  \n",
       "50%            354.729129  \n",
       "75%            532.800000  \n",
       "max           2893.239678  "
      ]
     },
     "execution_count": 13,
     "metadata": {},
     "output_type": "execute_result"
    }
   ],
   "source": [
    "data.describe()"
   ]
  },
  {
   "cell_type": "code",
   "execution_count": 14,
   "id": "c84ad3be-755f-450c-8f59-4a0b40aca726",
   "metadata": {},
   "outputs": [
    {
     "name": "stdout",
     "output_type": "stream",
     "text": [
      "Summary Statistics for Categorical Columns:\n",
      "       Customer          ST GENDER Education Number of Open Complaints  \\\n",
      "count      1071        1071    954      1071                      1071   \n",
      "unique     1071           5      2         6                         6   \n",
      "top     RB50392  California      F  Bachelor                    1/0/00   \n",
      "freq          1         331    502       324                       830   \n",
      "\n",
      "          Policy Type  Vehicle Class  \n",
      "count            1071           1071  \n",
      "unique              3              6  \n",
      "top     Personal Auto  Four-Door Car  \n",
      "freq              780            576  \n"
     ]
    }
   ],
   "source": [
    "# Identify categorical columns\n",
    "categorical_columns = data.select_dtypes(include=['object', 'category']).columns\n",
    "\n",
    "# Compute summary statistics for categorical columns\n",
    "summary_stats = data[categorical_columns].describe()\n",
    "\n",
    "print(\"Summary Statistics for Categorical Columns:\")\n",
    "print(summary_stats)"
   ]
  },
  {
   "cell_type": "markdown",
   "id": "4a703890-63db-4944-b7ab-95a4f8185120",
   "metadata": {},
   "source": [
    "## Challenge 2: analyzing the data"
   ]
  },
  {
   "cell_type": "markdown",
   "id": "0776a403-c56a-452f-ac33-5fd4fdb06fc7",
   "metadata": {},
   "source": [
    "### Exercise 1"
   ]
  },
  {
   "cell_type": "markdown",
   "id": "eedbc484-da4d-4f9c-9343-e1d44311a87e",
   "metadata": {},
   "source": [
    "The marketing team wants to know the top 5 less common customer locations. Create a pandas Series object that contains the customer locations and their frequencies, and then retrieve the top 5 less common locations in ascending order."
   ]
  },
  {
   "cell_type": "code",
   "execution_count": 16,
   "id": "2dca5073-4520-4f42-9390-4b92733284ed",
   "metadata": {},
   "outputs": [
    {
     "name": "stdout",
     "output_type": "stream",
     "text": [
      "ST\n",
      "Nevada         98\n",
      "Washington    111\n",
      "Arizona       211\n",
      "Oregon        320\n",
      "California    331\n",
      "Name: count, dtype: int64\n"
     ]
    }
   ],
   "source": [
    "# Your code here\n",
    "# Create a Series object with customer locations and their frequencies\n",
    "location_counts = data['ST'].value_counts()\n",
    "\n",
    "# Retrieve the top 5 less common locations in ascending order\n",
    "top_5_less_common_locations = location_counts.nsmallest(5)\n",
    "print(top_5_less_common_locations)"
   ]
  },
  {
   "cell_type": "markdown",
   "id": "0ce80f43-4afa-43c7-a78a-c917444da4e0",
   "metadata": {},
   "source": [
    "### Exercise 2\n",
    "\n",
    "The sales team wants to know the total number of policies sold for each type of policy. Create a pandas Series object that contains the policy types and their total number of policies sold, and then retrieve the policy type with the highest number of policies sold."
   ]
  },
  {
   "cell_type": "markdown",
   "id": "a9f13997-1555-4f98-aca6-970fda1d2c3f",
   "metadata": {},
   "source": [
    "*Hint:*\n",
    "- *Using value_counts() method simplifies this analysis.*\n",
    "- *Futhermore, there is a method that returns the index of the maximum value in a column or row.*\n"
   ]
  },
  {
   "cell_type": "code",
   "execution_count": 17,
   "id": "bcfad6c1-9af2-4b0b-9aa9-0dc5c17473c0",
   "metadata": {},
   "outputs": [
    {
     "name": "stdout",
     "output_type": "stream",
     "text": [
      "Total number of policies sold for each type of policy:\n",
      "Policy Type\n",
      "Personal Auto     780\n",
      "Corporate Auto    234\n",
      "Special Auto       57\n",
      "Name: count, dtype: int64\n",
      "\n",
      "Policy type with the highest number of policies sold:\n",
      "Personal Auto\n"
     ]
    }
   ],
   "source": [
    "# Your code here\n",
    "# Create a Series object with policy types and their total number of policies sold\n",
    "policy_counts = data['Policy Type'].value_counts()\n",
    "\n",
    "# Retrieve the policy type with the highest number of policies sold\n",
    "top_policy_type = policy_counts.idxmax()\n",
    "\n",
    "print(\"Total number of policies sold for each type of policy:\")\n",
    "print(policy_counts)\n",
    "print(\"\\nPolicy type with the highest number of policies sold:\")\n",
    "print(top_policy_type)"
   ]
  },
  {
   "cell_type": "markdown",
   "id": "0b863fd3-bf91-4d5d-86eb-be29ed9f5b70",
   "metadata": {},
   "source": [
    "### Exercise 3\n",
    "\n",
    "The sales team wants to know if customers with Personal Auto have a lower income than those with Corporate Auto. How does the average income compare between the two policy types?"
   ]
  },
  {
   "cell_type": "markdown",
   "id": "b1386d75-2810-4aa1-93e0-9485aa12d552",
   "metadata": {},
   "source": [
    "- Use *loc* to create two dataframes: one containing only Personal Auto policies and one containing only Corporate Auto policies.\n",
    "- Calculate the average income for each policy.\n",
    "- Print the results."
   ]
  },
  {
   "cell_type": "code",
   "execution_count": 18,
   "id": "0c0563cf-6f8b-463d-a321-651a972f82e5",
   "metadata": {},
   "outputs": [
    {
     "name": "stdout",
     "output_type": "stream",
     "text": [
      "Average Income for Personal Auto Policies: 38180.69871794872\n",
      "Average Income for Corporate Auto Policies: 41390.31196581197\n"
     ]
    }
   ],
   "source": [
    "# Your code here\n",
    "\n",
    "# Create two DataFrames: one for Personal Auto policies and one for Corporate Auto policies\n",
    "personal_auto = data.loc[data['Policy Type'] == 'Personal Auto']\n",
    "corporate_auto = data.loc[data['Policy Type'] == 'Corporate Auto']\n",
    "\n",
    "# Calculate the average income for each policy type\n",
    "average_income_personal_auto = personal_auto['Income'].mean()\n",
    "average_income_corporate_auto = corporate_auto['Income'].mean()\n",
    "\n",
    "# Print the results\n",
    "print(\"Average Income for Personal Auto Policies:\", average_income_personal_auto)\n",
    "print(\"Average Income for Corporate Auto Policies:\", average_income_corporate_auto)"
   ]
  },
  {
   "cell_type": "markdown",
   "id": "80b16c27-f4a5-4727-a229-1f88671cf4e2",
   "metadata": {},
   "source": [
    "### Bonus: Exercise 4\n"
   ]
  },
  {
   "cell_type": "markdown",
   "id": "ac584986-299b-475f-ac2e-928c16c3f512",
   "metadata": {},
   "source": [
    "Your goal is to identify customers with a high policy claim amount.\n",
    "\n",
    "Instructions:\n",
    "\n",
    "- Review again the statistics for total claim amount to gain an understanding of the data.\n",
    "- To identify potential areas for improving customer retention and profitability, we want to focus on customers with a high policy claim amount. Consider customers with a high policy claim amount to be those in the top 25% of the total claim amount. Create a pandas DataFrame object that contains information about customers with a policy claim amount greater than the 75th percentile.\n",
    "- Use DataFrame methods to calculate summary statistics about the high policy claim amount data. "
   ]
  },
  {
   "cell_type": "markdown",
   "id": "4e3af5f1-6023-4b05-9c01-d05392daa650",
   "metadata": {},
   "source": [
    "*Note: When analyzing data, we often want to focus on certain groups of values to gain insights. Percentiles are a useful tool to help us define these groups. A percentile is a measure that tells us what percentage of values in a dataset are below a certain value. For example, the 75th percentile represents the value below which 75% of the data falls. Similarly, the 25th percentile represents the value below which 25% of the data falls. When we talk about the top 25%, we are referring to the values that fall above the 75th percentile, which represent the top quarter of the data. On the other hand, when we talk about the bottom 25%, we are referring to the values that fall below the 25th percentile, which represent the bottom quarter of the data. By focusing on these groups, we can identify patterns and trends that may be useful for making decisions and taking action.*\n",
    "\n",
    "*Hint: look for a method that gives you the percentile or quantile 0.75 and 0.25 for a Pandas Series.*"
   ]
  },
  {
   "cell_type": "markdown",
   "id": "2d234634-50bd-41e0-88f7-d5ba684455d1",
   "metadata": {},
   "source": [
    "*Hint 2: check `Boolean selection according to the values of a single column` in https://towardsdatascience.com/filtering-data-frames-in-pandas-b570b1f834b9*"
   ]
  },
  {
   "cell_type": "code",
   "execution_count": 19,
   "id": "b731bca6-a760-4860-a27b-a33efa712ce0",
   "metadata": {},
   "outputs": [
    {
     "name": "stdout",
     "output_type": "stream",
     "text": [
      "Statistics for Total Claim Amount:\n",
      "count    1071.000000\n",
      "mean      404.986909\n",
      "std       293.027260\n",
      "min         0.382107\n",
      "25%       202.157702\n",
      "50%       354.729129\n",
      "75%       532.800000\n",
      "max      2893.239678\n",
      "Name: Total Claim Amount, dtype: float64\n",
      "\n",
      "75th Percentile (Top 25% Threshold): 532.8\n",
      "\n",
      "Summary Statistics for High Policy Claim Amount Data:\n",
      "       Customer Lifetime Value        Income  Monthly Premium Auto  \\\n",
      "count                      0.0    264.000000            264.000000   \n",
      "mean                       NaN  23677.344697            165.193182   \n",
      "std                        NaN  27013.483721            623.930992   \n",
      "min                        NaN      0.000000             63.000000   \n",
      "25%                        NaN      0.000000             99.000000   \n",
      "50%                        NaN  18807.000000            114.000000   \n",
      "75%                        NaN  42423.750000            133.250000   \n",
      "max                        NaN  99316.000000          10202.000000   \n",
      "\n",
      "       Total Claim Amount  \n",
      "count          264.000000  \n",
      "mean           782.228263  \n",
      "std            292.751640  \n",
      "min            537.600000  \n",
      "25%            606.521741  \n",
      "50%            679.597985  \n",
      "75%            851.400000  \n",
      "max           2893.239678  \n"
     ]
    }
   ],
   "source": [
    "# Your code here\n",
    "# Review the statistics for total claim amount\n",
    "total_claim_stats = data['Total Claim Amount'].describe()\n",
    "print(\"Statistics for Total Claim Amount:\")\n",
    "print(total_claim_stats)\n",
    "\n",
    "# Calculate the 75th percentile (top 25% threshold)\n",
    "claim_75th_percentile = data['Total Claim Amount'].quantile(0.75)\n",
    "print(\"\\n75th Percentile (Top 25% Threshold):\", claim_75th_percentile)\n",
    "\n",
    "# Create a DataFrame with customers having a policy claim amount greater than the 75th percentile\n",
    "high_claim_customers = data.loc[data['Total Claim Amount'] > claim_75th_percentile]\n",
    "\n",
    "# Calculate summary statistics for high policy claim amount data\n",
    "high_claim_stats = high_claim_customers.describe()\n",
    "print(\"\\nSummary Statistics for High Policy Claim Amount Data:\")\n",
    "print(high_claim_stats)"
   ]
  },
  {
   "cell_type": "code",
   "execution_count": null,
   "id": "ec791bfb-2cc6-4b93-b2f1-212814b5466a",
   "metadata": {},
   "outputs": [],
   "source": []
  }
 ],
 "metadata": {
  "kernelspec": {
   "display_name": "Python 3 (ipykernel)",
   "language": "python",
   "name": "python3"
  },
  "language_info": {
   "codemirror_mode": {
    "name": "ipython",
    "version": 3
   },
   "file_extension": ".py",
   "mimetype": "text/x-python",
   "name": "python",
   "nbconvert_exporter": "python",
   "pygments_lexer": "ipython3",
   "version": "3.12.7"
  }
 },
 "nbformat": 4,
 "nbformat_minor": 5
}
